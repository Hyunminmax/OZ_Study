{
 "cells": [
  {
   "cell_type": "markdown",
   "metadata": {},
   "source": [
    "# Yes24 크롤링"
   ]
  },
  {
   "cell_type": "code",
   "execution_count": 7,
   "metadata": {},
   "outputs": [
    {
     "name": "stdout",
     "output_type": "stream",
     "text": [
      "11\n"
     ]
    }
   ],
   "source": [
    "print('11')"
   ]
  },
  {
   "cell_type": "code",
   "execution_count": 8,
   "metadata": {},
   "outputs": [
    {
     "data": {
      "text/plain": [
       "'C:\\\\Users\\\\hyunm\\\\.wdm\\\\drivers\\\\chromedriver\\\\win64\\\\121.0.6167.85\\\\chromedriver-win32/chromedriver.exe'"
      ]
     },
     "execution_count": 8,
     "metadata": {},
     "output_type": "execute_result"
    }
   ],
   "source": [
    "from selenium import webdriver\n",
    "from webdriver_manager.chrome import ChromeDriverManager\n",
    "ChromeDriverManager().install()"
   ]
  },
  {
   "cell_type": "code",
   "execution_count": 63,
   "metadata": {},
   "outputs": [],
   "source": [
    "browser = webdriver.Chrome()\n"
   ]
  },
  {
   "cell_type": "code",
   "execution_count": 65,
   "metadata": {},
   "outputs": [
    {
     "name": "stdout",
     "output_type": "stream",
     "text": [
      "1\n",
      "2\n",
      "[<selenium.webdriver.remote.webelement.WebElement (session=\"59133cc227e68bb31db693c5e65da6e5\", element=\"B5684325D2CDE51873D614D7F7474094_element_277\")>, <selenium.webdriver.remote.webelement.WebElement (session=\"59133cc227e68bb31db693c5e65da6e5\", element=\"B5684325D2CDE51873D614D7F7474094_element_278\")>, <selenium.webdriver.remote.webelement.WebElement (session=\"59133cc227e68bb31db693c5e65da6e5\", element=\"B5684325D2CDE51873D614D7F7474094_element_279\")>, <selenium.webdriver.remote.webelement.WebElement (session=\"59133cc227e68bb31db693c5e65da6e5\", element=\"B5684325D2CDE51873D614D7F7474094_element_280\")>, <selenium.webdriver.remote.webelement.WebElement (session=\"59133cc227e68bb31db693c5e65da6e5\", element=\"B5684325D2CDE51873D614D7F7474094_element_281\")>, <selenium.webdriver.remote.webelement.WebElement (session=\"59133cc227e68bb31db693c5e65da6e5\", element=\"B5684325D2CDE51873D614D7F7474094_element_282\")>, <selenium.webdriver.remote.webelement.WebElement (session=\"59133cc227e68bb31db693c5e65da6e5\", element=\"B5684325D2CDE51873D614D7F7474094_element_283\")>, <selenium.webdriver.remote.webelement.WebElement (session=\"59133cc227e68bb31db693c5e65da6e5\", element=\"B5684325D2CDE51873D614D7F7474094_element_284\")>, <selenium.webdriver.remote.webelement.WebElement (session=\"59133cc227e68bb31db693c5e65da6e5\", element=\"B5684325D2CDE51873D614D7F7474094_element_285\")>, <selenium.webdriver.remote.webelement.WebElement (session=\"59133cc227e68bb31db693c5e65da6e5\", element=\"B5684325D2CDE51873D614D7F7474094_element_286\")>, <selenium.webdriver.remote.webelement.WebElement (session=\"59133cc227e68bb31db693c5e65da6e5\", element=\"B5684325D2CDE51873D614D7F7474094_element_287\")>, <selenium.webdriver.remote.webelement.WebElement (session=\"59133cc227e68bb31db693c5e65da6e5\", element=\"B5684325D2CDE51873D614D7F7474094_element_288\")>, <selenium.webdriver.remote.webelement.WebElement (session=\"59133cc227e68bb31db693c5e65da6e5\", element=\"B5684325D2CDE51873D614D7F7474094_element_289\")>, <selenium.webdriver.remote.webelement.WebElement (session=\"59133cc227e68bb31db693c5e65da6e5\", element=\"B5684325D2CDE51873D614D7F7474094_element_290\")>, <selenium.webdriver.remote.webelement.WebElement (session=\"59133cc227e68bb31db693c5e65da6e5\", element=\"B5684325D2CDE51873D614D7F7474094_element_291\")>, <selenium.webdriver.remote.webelement.WebElement (session=\"59133cc227e68bb31db693c5e65da6e5\", element=\"B5684325D2CDE51873D614D7F7474094_element_292\")>, <selenium.webdriver.remote.webelement.WebElement (session=\"59133cc227e68bb31db693c5e65da6e5\", element=\"B5684325D2CDE51873D614D7F7474094_element_293\")>, <selenium.webdriver.remote.webelement.WebElement (session=\"59133cc227e68bb31db693c5e65da6e5\", element=\"B5684325D2CDE51873D614D7F7474094_element_294\")>, <selenium.webdriver.remote.webelement.WebElement (session=\"59133cc227e68bb31db693c5e65da6e5\", element=\"B5684325D2CDE51873D614D7F7474094_element_295\")>, <selenium.webdriver.remote.webelement.WebElement (session=\"59133cc227e68bb31db693c5e65da6e5\", element=\"B5684325D2CDE51873D614D7F7474094_element_296\")>, <selenium.webdriver.remote.webelement.WebElement (session=\"59133cc227e68bb31db693c5e65da6e5\", element=\"B5684325D2CDE51873D614D7F7474094_element_297\")>, <selenium.webdriver.remote.webelement.WebElement (session=\"59133cc227e68bb31db693c5e65da6e5\", element=\"B5684325D2CDE51873D614D7F7474094_element_298\")>, <selenium.webdriver.remote.webelement.WebElement (session=\"59133cc227e68bb31db693c5e65da6e5\", element=\"B5684325D2CDE51873D614D7F7474094_element_299\")>, <selenium.webdriver.remote.webelement.WebElement (session=\"59133cc227e68bb31db693c5e65da6e5\", element=\"B5684325D2CDE51873D614D7F7474094_element_300\")>]\n"
     ]
    }
   ],
   "source": [
    "from selenium.webdriver.common.by import By\n",
    "import time\n",
    "# 디테일을 조회 할 책 리스트\n",
    "bookDetails = []\n",
    "\n",
    "# 책리스트 페이지\n",
    "# 책 리스트를 읽어올 페이지 수 설정\n",
    "# pages = input('조회할 페이지 수를 입력하세요.') 테스트에서는 3으로 입력\n",
    "pages = 2\n",
    "# 페이지 수 만큼 반복하며 책디테일 링크 수집\n",
    "for page in range(1, pages+1):\n",
    "    url = f'https://www.yes24.com/Product/Category/BestSeller?categoryNumber=001&pageNumber={page}&pageSize=24'\n",
    "    browser.get(url)\n",
    "    print(page)\n",
    "    # 책디테일 정보 링크들 추출\n",
    "    bookLinks = browser.find_elements(By.CLASS_NAME, 'gd_name')\n",
    "    for row in bookLinks:\n",
    "        bookDetails.append(row.get_attribute(\"href\"))\n",
    "\n",
    "    time.sleep(1)\n",
    "print(bookLinks)\n",
    "\n",
    "# 각 책의 세부 정보페이지를 열어 정보수집\n",
    "# for bookdetail in bookDetails:\n",
    "#     if bookdetail != 'https://www.yes24.com/Product/Goods/122120495':\n",
    "#         break\n",
    "#     browser.get(bookdetail)\n",
    "#     # 정보수집(책 제목, 저자, 출판사, 출판일, 평점, 리뷰, 판매지수, 가격, 국내도서랭킹, 국내도서TOP100)\n",
    "#     # - 책 제목 (title)\n",
    "#     title = browser.find_element(By.CLASS_NAME, 'gd_titArea').find_element(By.CLASS_NAME, 'gd_name').text\n",
    "#     # - 저자 (author)\n",
    "#     author = browser.find_element(By.CLASS_NAME, 'gd_auth').find_element(By.TAG_NAME, 'a').text\n",
    "#     # - 출판사 (publisher)\n",
    "#     publisher = browser.find_element(By.CLASS_NAME, 'gd_pub').find_element(By.TAG_NAME, 'a').text\n",
    "#     # - 출판일 (publishing)\n",
    "#     publishing = browser.find_element(By.CLASS_NAME, 'gd_date').text\n",
    "#     # - 평점 (rating)\n",
    "#     rating = browser.find_element(By.CLASS_NAME, 'gd_lnkRate').find_element(By.CLASS_NAME, 'yes_b').text\n",
    "#     # - 리뷰 (review)\n",
    "#     review = browser.find_element(By.CLASS_NAME, 'gd_reviewCount').find_element(By.CLASS_NAME, 'txC_blue').text\n",
    "#     # - 판매지수 (sales)\n",
    "#     sales = browser.find_element(By.CLASS_NAME, 'gd_sellNum').text.split()[2]\n",
    "#     # - 가격 (price)\n",
    "#     price = browser.find_element(By.CLASS_NAME, 'nor_price').find_element(By.CLASS_NAME, 'yes_m').text\n",
    "#     # - 국내도서랭킹 (ranking), 국내도서TOP100 (ranking_weeks)\n",
    "#     rankingWithWeeks = browser.find_element(By.CLASS_NAME, 'gd_best.gd_best_tp02').find_element(By.TAG_NAME, 'DD').text\n",
    "#     # 국내도서랭킹 순위만 (이 책의 최고 순위₩)\n",
    "#     ranking = rankingWithWeeks.split()[1][:1]\n",
    "#     # 국내도서까지 표시\n",
    "#     # ranking = rankingWithWeeks.split()[1]\n",
    "#     # 국내도서TOP100 (국내도서 1위 n주, top20 n주, top100 n주 등의 종류가 있음.)\n",
    "#     # ranking_weeks = rankingWithWeeks.split(' | ')[1]\n",
    "#     # 강의에서선 그냥 숫자만 취함.\n",
    "#     ranking_weeks = rankingWithWeeks.split(' | ')[1].split(' ')[2][:-1]\n",
    "    \n",
    "    \n"
   ]
  },
  {
   "cell_type": "code",
   "execution_count": 66,
   "metadata": {},
   "outputs": [
    {
     "name": "stderr",
     "output_type": "stream",
     "text": [
      "<>:35: SyntaxWarning: invalid escape sequence '\\d'\n",
      "<>:35: SyntaxWarning: invalid escape sequence '\\d'\n",
      "C:\\Users\\hyunm\\AppData\\Local\\Temp\\ipykernel_17352\\662501067.py:35: SyntaxWarning: invalid escape sequence '\\d'\n",
      "  match = re.search(f'(\\d+)년 (\\d+)월 (\\d+)일', publishingDate)\n"
     ]
    }
   ],
   "source": [
    "import pymysql\n",
    "import time\n",
    "import re\n",
    "from datetime import datetime\n",
    "\n",
    "conn = pymysql.connect(\n",
    "    host = 'localhost',\n",
    "    user = 'root',\n",
    "    password = 'its_secret.', \n",
    "    db = 'yes24',\n",
    "    charset = 'utf8mb4',\n",
    "    cursorclass = pymysql.cursors.DictCursor\n",
    ")\n",
    "# 테스트를 위한 주소\n",
    "# bookDetails = ['https://www.yes24.com/Product/Goods/124110821']\n",
    "with conn.cursor() as cur:\n",
    "    for bookdetail in bookDetails:\n",
    "        # if bookdetail != 'https://www.yes24.com/Product/Goods/122120495':\n",
    "        #     break\n",
    "        browser.get(bookdetail)\n",
    "        # 정보수집(책 제목, 저자, 출판사, 출판일, 평점, 리뷰, 판매지수, 가격, 국내도서랭킹, 국내도서TOP100)\n",
    "        # - 책 제목 (title)\n",
    "        title = browser.find_element(By.CLASS_NAME, 'gd_titArea').find_element(By.CLASS_NAME, 'gd_name').text\n",
    "        # - 저자 (author)\n",
    "        author = browser.find_element(By.CLASS_NAME, 'gd_auth').find_element(By.TAG_NAME, 'a').text\n",
    "        # - 출판사 (publisher)\n",
    "        publisher = browser.find_element(By.CLASS_NAME, 'gd_pub').find_element(By.TAG_NAME, 'a').text\n",
    "        \n",
    "        # - 출판일 (publishing)\n",
    "        # 내 방법\n",
    "        # publishingDate = browser.find_element(By.CLASS_NAME, 'gd_date').text.split(' ')\n",
    "        # publishing = publishingDate[0][:-1] + '-' + publishingDate[1][:-1]+ '-' + publishingDate[2][:-1]\n",
    "        # 강사님 방법\n",
    "        publishingDate = browser.find_element(By.CLASS_NAME, 'gd_date').text\n",
    "        match = re.search(f'(\\d+)년 (\\d+)월 (\\d+)일', publishingDate)\n",
    "        if match:\n",
    "            year, month, day = match.groups()\n",
    "            data_obj = datetime(int(year), int(month), int(day))\n",
    "            publishing = data_obj.strftime('%Y-%m-%d')\n",
    "        else:\n",
    "            publishing = \"0000-00-00\"\n",
    "\n",
    "        # - 평점 (rating)\n",
    "        try:\n",
    "            rating = browser.find_element(By.CLASS_NAME, 'gd_lnkRate').find_element(By.CLASS_NAME, 'yes_b').text\n",
    "        except:\n",
    "            ranking = 0\n",
    "        # - 리뷰 (review)\n",
    "        try:\n",
    "            review = int(browser.find_element(By.CLASS_NAME, 'gd_reviewCount').find_element(By.CLASS_NAME, 'txC_blue').text.replace(',', ''))\n",
    "        except:\n",
    "            review = 0\n",
    "        \n",
    "        # - 판매지수 (sales)\n",
    "        try:\n",
    "            sales = int(browser.find_element(By.CLASS_NAME, 'gd_sellNum').text.split()[2].replace(',', ''))\n",
    "        except:\n",
    "            sales = 0\n",
    "        # - 가격 (price)\n",
    "        try:\n",
    "            price = int(browser.find_element(By.CLASS_NAME, 'nor_price').find_element(By.CLASS_NAME, 'yes_m').text.replace(',', ''))\n",
    "        except:\n",
    "            price = 0\n",
    "\n",
    "        # - 국내도서랭킹 (ranking), 국내도서TOP100 (ranking_weeks)\n",
    "        rankingWithWeeks = browser.find_element(By.CLASS_NAME, 'gd_best.gd_best_tp02').find_element(By.TAG_NAME, 'DD').text\n",
    "        # 국내도서랭킹 순위만 (이 책의 최고 순위₩)\n",
    "        ranking= rankingWithWeeks.split()[1][:1]\n",
    "        if not ranking.isdigit():\n",
    "            ranking = 0\n",
    "        \n",
    "        # 국내도서까지 표시\n",
    "        # ranking = rankingWithWeeks.split()[1]\n",
    "        # 국내도서TOP100 (국내도서 1위 n주, top20 n주, top100 n주 등의 종류가 있음.)\n",
    "        # ranking_weeks = rankingWithWeeks.split(' | ')[1]\n",
    "        # 강의에서선 그냥 숫자만 취함.\n",
    "        try:\n",
    "            ranking_weeks = rankingWithWeeks.split(' | ')[1].split(' ')[2][:-1]\n",
    "        except:\n",
    "            raranking_weeks = 0\n",
    "\n",
    "        sql = '''INSERT INTO Books(\n",
    "            title, author, publisher, publishing, rating, review, sales, price, ranking, ranking_weeks\n",
    "            )\n",
    "            VALUES(\n",
    "            %s, %s, %s, %s, %s, %s, %s, %s, %s, %s\n",
    "            )'''\n",
    "        cur.execute(sql, (title, author, publisher, publishing, rating, review, sales, price, ranking, ranking_weeks))\n",
    "        conn.commit()\n",
    "        time.sleep(1.2)\n",
    "\n"
   ]
  },
  {
   "cell_type": "markdown",
   "metadata": {},
   "source": []
  },
  {
   "cell_type": "code",
   "execution_count": null,
   "metadata": {},
   "outputs": [],
   "source": [
    "# - 책 제목 (title)\n",
    "# - 저자 (author)\n",
    "# - 출판사 (publisher)\n",
    "# - 출판일 (publishing)\n",
    "# - 평점 (rating)\n",
    "# - 리뷰 (review)\n",
    "# - 판매지수 (sales)\n",
    "# - 가격 (price)\n",
    "# - 국내도서랭킹 (ranking)\n",
    "# - 국내도서TOP100 (ranking_weeks)"
   ]
  }
 ],
 "metadata": {
  "kernelspec": {
   "display_name": ".venv",
   "language": "python",
   "name": "python3"
  },
  "language_info": {
   "codemirror_mode": {
    "name": "ipython",
    "version": 3
   },
   "file_extension": ".py",
   "mimetype": "text/x-python",
   "name": "python",
   "nbconvert_exporter": "python",
   "pygments_lexer": "ipython3",
   "version": "3.12.1"
  }
 },
 "nbformat": 4,
 "nbformat_minor": 2
}
