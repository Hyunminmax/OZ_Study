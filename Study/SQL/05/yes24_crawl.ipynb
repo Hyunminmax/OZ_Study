{
 "cells": [
  {
   "cell_type": "markdown",
   "metadata": {},
   "source": [
    "# Yes24 크롤링"
   ]
  },
  {
   "cell_type": "code",
   "execution_count": 3,
   "metadata": {},
   "outputs": [
    {
     "data": {
      "text/plain": [
       "'/Users/hyunmin/.wdm/drivers/chromedriver/mac64/121.0.6167.85/chromedriver-mac-x64/chromedriver'"
      ]
     },
     "execution_count": 3,
     "metadata": {},
     "output_type": "execute_result"
    }
   ],
   "source": [
    "from selenium import webdriver\n",
    "from webdriver_manager.chrome import ChromeDriverManager\n",
    "ChromeDriverManager().install()"
   ]
  },
  {
   "cell_type": "code",
   "execution_count": 11,
   "metadata": {},
   "outputs": [],
   "source": [
    "browser = webdriver.Chrome()\n"
   ]
  },
  {
   "cell_type": "code",
   "execution_count": 41,
   "metadata": {},
   "outputs": [
    {
     "name": "stdout",
     "output_type": "stream",
     "text": [
      "국내도서 1위 | 국내도서 1위 9주\n",
      "1위\n",
      "9주\n"
     ]
    }
   ],
   "source": [
    "from selenium.webdriver.common.by import By\n",
    "import time\n",
    "# 디테일을 조회 할 책 리스트\n",
    "bookDetails = []\n",
    "\n",
    "# 책리스트 페이지\n",
    "# 책 리스트를 읽어올 페이지 수 설정\n",
    "# pages = input('조회할 페이지 수를 입력하세요.') 테스트에서는 3으로 입력\n",
    "pages = 1\n",
    "# 페이지 수 만큼 반복하며 책디테일 링크 수집\n",
    "for page in range(pages+1):\n",
    "    url = f'https://www.yes24.com/Product/Category/BestSeller?categoryNumber=001&pageNumber={page}&pageSize=24'\n",
    "    browser.get(url)\n",
    "\n",
    "    # 책디테일 정보 링크들 추출\n",
    "    bookLinks = browser.find_elements(By.CLASS_NAME, 'gd_name')\n",
    "    for row in bookLinks:\n",
    "        bookDetails.append(row.get_attribute(\"href\"))\n",
    "    \n",
    "    time.sleep(1.5)\n",
    "\n",
    "# 각 책의 세부 정보페이지를 열어 정보수집\n",
    "for bookdetail in bookDetails:\n",
    "    if bookdetail != 'https://www.yes24.com/Product/Goods/122120495':\n",
    "        break\n",
    "    browser.get(bookdetail)\n",
    "    # 정보수집(책 제목, 저자, 출판사, 출판일, 평점, 리뷰, 판매지수, 가격, 국내도서랭킹, 국내도서TOP100)\n",
    "    # - 책 제목 (title)\n",
    "    title = browser.find_element(By.CLASS_NAME, 'gd_titArea').find_element(By.CLASS_NAME, 'gd_name').text\n",
    "    # - 저자 (author)\n",
    "    author = browser.find_element(By.CLASS_NAME, 'gd_auth').find_element(By.TAG_NAME, 'a').text\n",
    "    # - 출판사 (publisher)\n",
    "    publisher = browser.find_element(By.CLASS_NAME, 'gd_pub').find_element(By.TAG_NAME, 'a').text\n",
    "    # - 출판일 (publishing)\n",
    "    publishing = browser.find_element(By.CLASS_NAME, 'gd_date').text\n",
    "    # - 평점 (rating)\n",
    "    rating = browser.find_element(By.CLASS_NAME, 'gd_lnkRate').find_element(By.CLASS_NAME, 'yes_b').text\n",
    "    # - 리뷰 (review)\n",
    "    review = browser.find_element(By.CLASS_NAME, 'gd_reviewCount').find_element(By.CLASS_NAME, 'txC_blue').text\n",
    "    # - 판매지수 (sales)\n",
    "    sales = browser.find_element(By.CLASS_NAME, 'gd_sellNum').text.split()[2]\n",
    "    # - 가격 (price)\n",
    "    price = browser.find_element(By.CLASS_NAME, 'nor_price').find_element(By.CLASS_NAME, 'yes_m').text\n",
    "    # - 국내도서랭킹 (ranking), 국내도서TOP100 (ranking_weeks)\n",
    "    rankingWithWeeks = browser.find_element(By.CLASS_NAME, 'gd_best.gd_best_tp02').find_element(By.TAG_NAME, 'DD').text\n",
    "    # 국내도서랭킹 순위만 (이 책의 최고 순위₩)\n",
    "    ranking = rankingWithWeeks.split()[1]\n",
    "    # 국내도서까지 표시\n",
    "    ranking = rankingWithWeeks.split()[1]\n",
    "    # 국내도서TOP100 (국내도서 1위 n주, top20 n주, top100 n주 등의 종류가 있음.)\n",
    "    ranking_weeks = rankingWithWeeks.split(' | ')[1]\n",
    "    \n",
    "    \n",
    "    print(rankingWithWeeks)\n",
    "    print(ranking)\n",
    "    print(ranking_weeks)\n"
   ]
  },
  {
   "cell_type": "markdown",
   "metadata": {},
   "source": []
  },
  {
   "cell_type": "code",
   "execution_count": null,
   "metadata": {},
   "outputs": [],
   "source": [
    "# - 책 제목 (title)\n",
    "# - 저자 (author)\n",
    "# - 출판사 (publisher)\n",
    "# - 출판일 (publishing)\n",
    "# - 평점 (rating)\n",
    "# - 리뷰 (review)\n",
    "# - 판매지수 (sales)\n",
    "# - 가격 (price)\n",
    "# - 국내도서랭킹 (ranking)\n",
    "# - 국내도서TOP100 (ranking_weeks)"
   ]
  }
 ],
 "metadata": {
  "kernelspec": {
   "display_name": ".venv",
   "language": "python",
   "name": "python3"
  },
  "language_info": {
   "codemirror_mode": {
    "name": "ipython",
    "version": 3
   },
   "file_extension": ".py",
   "mimetype": "text/x-python",
   "name": "python",
   "nbconvert_exporter": "python",
   "pygments_lexer": "ipython3",
   "version": "3.12.1"
  }
 },
 "nbformat": 4,
 "nbformat_minor": 2
}
